{
 "cells": [
  {
   "cell_type": "code",
   "execution_count": null,
   "metadata": {},
   "outputs": [],
   "source": [
    "import re\n",
    "import os"
   ]
  },
  {
   "cell_type": "code",
   "execution_count": null,
   "metadata": {},
   "outputs": [],
   "source": [
    "prepareForTestRegex = \"@PrepareForTest\\s*\\(\\{?[\\s\\S]*?\\}?\\)\"\n",
    "prepareForTestClassRegexKT = '[\\w\\.]*::class'\n",
    "prepareForTestClassRegexJava = '[\\w\\.]*\\.class'\n",
    "\n",
    "mockStaticClassRegexKT = \"mockStatic\\s*?\\((.+::class)\"\n",
    "mockStaticClassRegexJava = \"mockStatic\\s*?\\((.+)\\)\"\n"
   ]
  },
  {
   "cell_type": "code",
   "execution_count": null,
   "metadata": {},
   "outputs": [],
   "source": [
    "def getFileContentAsText(fileName):\n",
    "\n",
    "    fileObject = open(fileName, 'r')\n",
    "    fileContent = fileObject.read()\n",
    "    fileObject.close()\n",
    "\n",
    "    return fileContent\n",
    "\n",
    "\n",
    "def overrideContentToFile(content, fileName):\n",
    "    file = open(fileName, 'w')\n",
    "    file.write(content)\n",
    "    file.close()\n",
    "\n",
    "def getPrepareForTestContentFromFileContent(fileContent):\n",
    "    prepareForTestList = re.findall(prepareForTestRegex, fileContent)\n",
    "    if (len(prepareForTestList) == 0):\n",
    "        return \"\"\n",
    "    else:\n",
    "        return prepareForTestList[0]\n",
    "\n",
    "def getPrepareForTestClassListFromPrepareForTestContent(prepareForTestContent, isKotlin):\n",
    "    \n",
    "    prepareForTestClassList = re.findall(prepareForTestClassRegexKT if(isKotlin) else prepareForTestClassRegexJava, prepareForTestContent)\n",
    "    prepareForTestClassList = [classes.strip(\n",
    "        \" \\n\") for classes in prepareForTestClassList]\n",
    "\n",
    "    return prepareForTestClassList\n",
    "\n",
    "def getMockStaticClassListFromFileContent(fileContent, isKotin):\n",
    "    mockStaticClassList = re.findall(\n",
    "        mockStaticClassRegexKT if (isKotin) else mockStaticClassRegexJava, fileContent)\n",
    "\n",
    "    return mockStaticClassList\n",
    "\n",
    "\n",
    "def optimisePrepareForTestForFile(fileName):\n",
    "    fileContent = getFileContentAsText(fileName)\n",
    "\n",
    "    isKotlin = True if(fileName.split(\".\")[-1] == \"kt\") else False\n",
    "\n",
    "    prepareForTestContent = getPrepareForTestContentFromFileContent(\n",
    "        fileContent)\n",
    "    \n",
    "    prepareForTestClassList = getPrepareForTestClassListFromPrepareForTestContent(\n",
    "        prepareForTestContent, isKotlin)\n",
    "\n",
    "    mockStaticClassList = getMockStaticClassListFromFileContent(\n",
    "        fileContent, isKotlin)\n",
    "\n",
    "    classesToRemoveFromPrepareForTestClassList = list(\n",
    "        set(prepareForTestClassList) - set(mockStaticClassList))\n",
    "\n",
    "    prepareForTestContentOptimised = prepareForTestContent\n",
    "\n",
    "    for classToRemove in classesToRemoveFromPrepareForTestClassList:\n",
    "        classToRemoveRegex = classToRemove + \"\\s?,?\"\n",
    "        prepareForTestContentOptimised = re.sub(\n",
    "            classToRemoveRegex, \"\", prepareForTestContentOptimised)\n",
    "\n",
    "    fileContent = fileContent.replace(\n",
    "        prepareForTestContent, prepareForTestContentOptimised)\n",
    "\n",
    "    overrideContentToFile(fileContent, fileName)\n"
   ]
  },
  {
   "cell_type": "code",
   "execution_count": null,
   "metadata": {},
   "outputs": [],
   "source": [
    "pwd = \"/Users/ujjwal.kumar/StudioProjects/mavenir-android-client-snapshot\"\n",
    "for root, dirs, files in os.walk(pwd):\n",
    "    for file in files:\n",
    "        if ((\".java\" in file or \".kt\" in file) and (\"test\" in file.lower()) and (\"/src/test\") in root):\n",
    "            fileName = os.path.join(root, file)\n",
    "            print(\"Started optimising on \"+fileName)\n",
    "            optimisePrepareForTestForFile(fileName)\n"
   ]
  }
 ],
 "metadata": {
  "interpreter": {
   "hash": "aee8b7b246df8f9039afb4144a1f6fd8d2ca17a180786b69acc140d282b71a49"
  },
  "kernelspec": {
   "display_name": "Python 3.9.6 64-bit",
   "language": "python",
   "name": "python3"
  },
  "language_info": {
   "codemirror_mode": {
    "name": "ipython",
    "version": 3
   },
   "file_extension": ".py",
   "mimetype": "text/x-python",
   "name": "python",
   "nbconvert_exporter": "python",
   "pygments_lexer": "ipython3",
   "version": "3.9.6"
  },
  "orig_nbformat": 4
 },
 "nbformat": 4,
 "nbformat_minor": 2
}
